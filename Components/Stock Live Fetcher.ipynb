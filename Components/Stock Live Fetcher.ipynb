{
 "cells": [
  {
   "cell_type": "code",
   "execution_count": 2,
   "id": "respected-indianapolis",
   "metadata": {},
   "outputs": [],
   "source": [
    "from selenium import webdriver\n",
    "from selenium.webdriver.firefox.options import Options\n",
    "\n",
    "import time"
   ]
  },
  {
   "cell_type": "code",
   "execution_count": 3,
   "id": "flush-encyclopedia",
   "metadata": {},
   "outputs": [],
   "source": [
    "options = Options()\n",
    "options.add_argument('--headless')\n",
    "options.add_argument('--disable-gpu')"
   ]
  },
  {
   "cell_type": "code",
   "execution_count": 5,
   "id": "passing-diversity",
   "metadata": {},
   "outputs": [
    {
     "name": "stdout",
     "output_type": "stream",
     "text": [
      "272.05\n",
      "272.10\n",
      "272.10\n",
      "271.91\n",
      "271.96\n",
      "271.71\n",
      "271.66\n",
      "271.61\n",
      "271.61\n",
      "Program Stopped\n"
     ]
    }
   ],
   "source": [
    "browser = webdriver.Firefox(options=options)\n",
    "stock=\"bp.l\"\n",
    "url = \"https://www.etoro.com/markets/\" + stock\n",
    "browser.get(url)\n",
    "try:\n",
    "    while True:\n",
    "        print(browser.find_element_by_xpath('/html/body/ui-layout/div/div/div[2]/et-market/div/div/et-market-header/div/div[1]/div[2]/div[2]/div/span[1]').text)\n",
    "        time.sleep(10)\n",
    "except KeyboardInterrupt:\n",
    "    browser.quit()\n",
    "    print(\"Program Stopped\")"
   ]
  },
  {
   "cell_type": "code",
   "execution_count": 30,
   "id": "specified-damage",
   "metadata": {},
   "outputs": [],
   "source": []
  },
  {
   "cell_type": "code",
   "execution_count": null,
   "id": "correct-invitation",
   "metadata": {},
   "outputs": [],
   "source": []
  }
 ],
 "metadata": {
  "kernelspec": {
   "display_name": "Python 3",
   "language": "python",
   "name": "python3"
  },
  "language_info": {
   "codemirror_mode": {
    "name": "ipython",
    "version": 3
   },
   "file_extension": ".py",
   "mimetype": "text/x-python",
   "name": "python",
   "nbconvert_exporter": "python",
   "pygments_lexer": "ipython3",
   "version": "3.9.1"
  }
 },
 "nbformat": 4,
 "nbformat_minor": 5
}
