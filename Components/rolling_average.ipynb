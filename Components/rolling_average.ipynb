{
 "cells": [
  {
   "cell_type": "code",
   "execution_count": 1,
   "metadata": {},
   "outputs": [
    {
     "name": "stdout",
     "output_type": "stream",
     "text": [
      "Collecting alpha_vantage\n",
      "  Downloading alpha_vantage-2.3.1-py3-none-any.whl (31 kB)\n",
      "Requirement already satisfied: pandas in /Users/thevindegamboda/opt/anaconda3/lib/python3.7/site-packages (0.25.3)\n",
      "Requirement already satisfied: requests in /Users/thevindegamboda/opt/anaconda3/lib/python3.7/site-packages (from alpha_vantage) (2.22.0)\n",
      "Collecting aiohttp\n",
      "  Downloading aiohttp-3.7.3-cp37-cp37m-macosx_10_14_x86_64.whl (643 kB)\n",
      "\u001b[K     |████████████████████████████████| 643 kB 5.2 MB/s eta 0:00:01\n",
      "\u001b[?25hRequirement already satisfied: numpy>=1.13.3 in /Users/thevindegamboda/opt/anaconda3/lib/python3.7/site-packages (from pandas) (1.18.4)\n",
      "Requirement already satisfied: python-dateutil>=2.6.1 in /Users/thevindegamboda/opt/anaconda3/lib/python3.7/site-packages (from pandas) (2.8.0)\n",
      "Requirement already satisfied: pytz>=2017.2 in /Users/thevindegamboda/opt/anaconda3/lib/python3.7/site-packages (from pandas) (2019.3)\n",
      "Requirement already satisfied: idna<2.9,>=2.5 in /Users/thevindegamboda/opt/anaconda3/lib/python3.7/site-packages (from requests->alpha_vantage) (2.8)\n",
      "Requirement already satisfied: chardet<3.1.0,>=3.0.2 in /Users/thevindegamboda/opt/anaconda3/lib/python3.7/site-packages (from requests->alpha_vantage) (3.0.4)\n",
      "Requirement already satisfied: certifi>=2017.4.17 in /Users/thevindegamboda/opt/anaconda3/lib/python3.7/site-packages (from requests->alpha_vantage) (2019.9.11)\n",
      "Requirement already satisfied: urllib3!=1.25.0,!=1.25.1,<1.26,>=1.21.1 in /Users/thevindegamboda/opt/anaconda3/lib/python3.7/site-packages (from requests->alpha_vantage) (1.24.2)\n",
      "Collecting yarl<2.0,>=1.0\n",
      "  Downloading yarl-1.6.3-cp37-cp37m-macosx_10_14_x86_64.whl (123 kB)\n",
      "\u001b[K     |████████████████████████████████| 123 kB 5.6 MB/s eta 0:00:01\n",
      "\u001b[?25hCollecting multidict<7.0,>=4.5\n",
      "  Downloading multidict-5.1.0-cp37-cp37m-macosx_10_14_x86_64.whl (49 kB)\n",
      "\u001b[K     |████████████████████████████████| 49 kB 5.7 MB/s eta 0:00:01\n",
      "\u001b[?25hCollecting typing-extensions>=3.6.5\n",
      "  Downloading typing_extensions-3.7.4.3-py3-none-any.whl (22 kB)\n",
      "Collecting async-timeout<4.0,>=3.0\n",
      "  Downloading async_timeout-3.0.1-py3-none-any.whl (8.2 kB)\n",
      "Requirement already satisfied: attrs>=17.3.0 in /Users/thevindegamboda/opt/anaconda3/lib/python3.7/site-packages (from aiohttp->alpha_vantage) (19.2.0)\n",
      "Requirement already satisfied: six>=1.5 in /Users/thevindegamboda/opt/anaconda3/lib/python3.7/site-packages (from python-dateutil>=2.6.1->pandas) (1.12.0)\n",
      "Installing collected packages: typing-extensions, multidict, yarl, async-timeout, aiohttp, alpha-vantage\n",
      "Successfully installed aiohttp-3.7.3 alpha-vantage-2.3.1 async-timeout-3.0.1 multidict-5.1.0 typing-extensions-3.7.4.3 yarl-1.6.3\n",
      "\u001b[33mWARNING: You are using pip version 20.1; however, version 21.0.1 is available.\n",
      "You should consider upgrading via the '/Users/thevindegamboda/opt/anaconda3/bin/python -m pip install --upgrade pip' command.\u001b[0m\n"
     ]
    }
   ],
   "source": [
    "!pip install alpha_vantage pandas"
   ]
  },
  {
   "cell_type": "code",
   "execution_count": 38,
   "metadata": {},
   "outputs": [],
   "source": [
    "from alpha_vantage.timeseries import TimeSeries\n",
    "\n",
    "api_key = '8GP1RUB9ZM45KYR0'\n",
    "\n",
    "ts = TimeSeries(key = api_key, output_format = 'pandas')\n",
    "\n",
    "data, meta_data = ts.get_daily_adjusted('GOOGL')"
   ]
  },
  {
   "cell_type": "code",
   "execution_count": 39,
   "metadata": {},
   "outputs": [
    {
     "name": "stdout",
     "output_type": "stream",
     "text": [
      "            1. open  2. high   3. low  4. close  5. adjusted close  6. volume  \\\n",
      "date                                                                            \n",
      "2021-02-16  2091.75  2145.14  2091.75   2110.70            2110.70  1550195.0   \n",
      "2021-02-12  2079.77  2099.50  2073.57   2095.03            2095.03   949525.0   \n",
      "2021-02-11  2091.00  2094.00  2068.86   2088.75            2088.75  1024029.0   \n",
      "2021-02-10  2083.14  2098.88  2052.24   2086.48            2086.48  1252689.0   \n",
      "2021-02-09  2074.80  2098.51  2070.00   2075.39            2075.39  1093053.0   \n",
      "\n",
      "            7. dividend amount  8. split coefficient  \n",
      "date                                                  \n",
      "2021-02-16                 0.0                   1.0  \n",
      "2021-02-12                 0.0                   1.0  \n",
      "2021-02-11                 0.0                   1.0  \n",
      "2021-02-10                 0.0                   1.0  \n",
      "2021-02-09                 0.0                   1.0  \n"
     ]
    }
   ],
   "source": [
    "from pprint import pprint\n",
    "\n",
    "pprint(data.head(5))"
   ]
  },
  {
   "cell_type": "code",
   "execution_count": 40,
   "metadata": {},
   "outputs": [
    {
     "data": {
      "text/html": [
       "<div>\n",
       "<style scoped>\n",
       "    .dataframe tbody tr th:only-of-type {\n",
       "        vertical-align: middle;\n",
       "    }\n",
       "\n",
       "    .dataframe tbody tr th {\n",
       "        vertical-align: top;\n",
       "    }\n",
       "\n",
       "    .dataframe thead th {\n",
       "        text-align: right;\n",
       "    }\n",
       "</style>\n",
       "<table border=\"1\" class=\"dataframe\">\n",
       "  <thead>\n",
       "    <tr style=\"text-align: right;\">\n",
       "      <th></th>\n",
       "      <th>1. open</th>\n",
       "      <th>2. high</th>\n",
       "      <th>3. low</th>\n",
       "      <th>4. close</th>\n",
       "      <th>5. adjusted close</th>\n",
       "      <th>6. volume</th>\n",
       "      <th>7. dividend amount</th>\n",
       "      <th>8. split coefficient</th>\n",
       "      <th>9. moving average</th>\n",
       "    </tr>\n",
       "    <tr>\n",
       "      <th>date</th>\n",
       "      <th></th>\n",
       "      <th></th>\n",
       "      <th></th>\n",
       "      <th></th>\n",
       "      <th></th>\n",
       "      <th></th>\n",
       "      <th></th>\n",
       "      <th></th>\n",
       "      <th></th>\n",
       "    </tr>\n",
       "  </thead>\n",
       "  <tbody>\n",
       "    <tr>\n",
       "      <th>2021-02-16</th>\n",
       "      <td>2091.75</td>\n",
       "      <td>2145.14</td>\n",
       "      <td>2091.75</td>\n",
       "      <td>2110.70</td>\n",
       "      <td>2110.70</td>\n",
       "      <td>1550195.0</td>\n",
       "      <td>0.0</td>\n",
       "      <td>1.0</td>\n",
       "      <td>NaN</td>\n",
       "    </tr>\n",
       "    <tr>\n",
       "      <th>2021-02-12</th>\n",
       "      <td>2079.77</td>\n",
       "      <td>2099.50</td>\n",
       "      <td>2073.57</td>\n",
       "      <td>2095.03</td>\n",
       "      <td>2095.03</td>\n",
       "      <td>949525.0</td>\n",
       "      <td>0.0</td>\n",
       "      <td>1.0</td>\n",
       "      <td>2110.700</td>\n",
       "    </tr>\n",
       "    <tr>\n",
       "      <th>2021-02-11</th>\n",
       "      <td>2091.00</td>\n",
       "      <td>2094.00</td>\n",
       "      <td>2068.86</td>\n",
       "      <td>2088.75</td>\n",
       "      <td>2088.75</td>\n",
       "      <td>1024029.0</td>\n",
       "      <td>0.0</td>\n",
       "      <td>1.0</td>\n",
       "      <td>2102.865</td>\n",
       "    </tr>\n",
       "    <tr>\n",
       "      <th>2021-02-10</th>\n",
       "      <td>2083.14</td>\n",
       "      <td>2098.88</td>\n",
       "      <td>2052.24</td>\n",
       "      <td>2086.48</td>\n",
       "      <td>2086.48</td>\n",
       "      <td>1252689.0</td>\n",
       "      <td>0.0</td>\n",
       "      <td>1.0</td>\n",
       "      <td>2098.160</td>\n",
       "    </tr>\n",
       "    <tr>\n",
       "      <th>2021-02-09</th>\n",
       "      <td>2074.80</td>\n",
       "      <td>2098.51</td>\n",
       "      <td>2070.00</td>\n",
       "      <td>2075.39</td>\n",
       "      <td>2075.39</td>\n",
       "      <td>1093053.0</td>\n",
       "      <td>0.0</td>\n",
       "      <td>1.0</td>\n",
       "      <td>2095.240</td>\n",
       "    </tr>\n",
       "  </tbody>\n",
       "</table>\n",
       "</div>"
      ],
      "text/plain": [
       "            1. open  2. high   3. low  4. close  5. adjusted close  6. volume  \\\n",
       "date                                                                            \n",
       "2021-02-16  2091.75  2145.14  2091.75   2110.70            2110.70  1550195.0   \n",
       "2021-02-12  2079.77  2099.50  2073.57   2095.03            2095.03   949525.0   \n",
       "2021-02-11  2091.00  2094.00  2068.86   2088.75            2088.75  1024029.0   \n",
       "2021-02-10  2083.14  2098.88  2052.24   2086.48            2086.48  1252689.0   \n",
       "2021-02-09  2074.80  2098.51  2070.00   2075.39            2075.39  1093053.0   \n",
       "\n",
       "            7. dividend amount  8. split coefficient  9. moving average  \n",
       "date                                                                     \n",
       "2021-02-16                 0.0                   1.0                NaN  \n",
       "2021-02-12                 0.0                   1.0           2110.700  \n",
       "2021-02-11                 0.0                   1.0           2102.865  \n",
       "2021-02-10                 0.0                   1.0           2098.160  \n",
       "2021-02-09                 0.0                   1.0           2095.240  "
      ]
     },
     "execution_count": 40,
     "metadata": {},
     "output_type": "execute_result"
    }
   ],
   "source": [
    "data['9. moving average'] = [data['4. close'][:i].mean() for i in range(data.shape[0])]\n",
    "data.head(5)"
   ]
  },
  {
   "cell_type": "code",
   "execution_count": 32,
   "metadata": {},
   "outputs": [],
   "source": [
    "import matplotlib.pyplot as plt\n",
    "import pandas as pd\n",
    "import numpy as np"
   ]
  },
  {
   "cell_type": "code",
   "execution_count": 48,
   "metadata": {},
   "outputs": [
    {
     "data": {
      "image/png": "[encoded data removed]",
      "text/plain": [
       "<Figure size 1080x504 with 1 Axes>"
      ]
     },
     "metadata": {
      "needs_background": "light"
     },
     "output_type": "display_data"
    }
   ],
   "source": [
    "plt.figure(figsize=(15,7))\n",
    "plt.plot(data['4. close'])\n",
    "plt.plot(data['9. moving average'])\n",
    "plt.show()"
   ]
  },
  {
   "cell_type": "code",
   "execution_count": 47,
   "metadata": {},
   "outputs": [
    {
     "data": {
      "text/plain": [
       "date\n",
       "2021-02-16    2110.70\n",
       "2021-02-12    2095.03\n",
       "2021-02-11    2088.75\n",
       "2021-02-10    2086.48\n",
       "2021-02-09    2075.39\n",
       "               ...   \n",
       "2020-09-29    1466.02\n",
       "2020-09-28    1458.66\n",
       "2020-09-25    1439.06\n",
       "2020-09-24    1422.86\n",
       "2020-09-23    1409.39\n",
       "Name: 4. close, Length: 100, dtype: float64"
      ]
     },
     "execution_count": 47,
     "metadata": {},
     "output_type": "execute_result"
    }
   ],
   "source": [
    "data.iloc[:, 3]"
   ]
  },
  {
   "cell_type": "code",
   "execution_count": null,
   "metadata": {},
   "outputs": [],
   "source": []
  }
 ],
 "metadata": {
  "kernelspec": {
   "display_name": "Python 3",
   "language": "python",
   "name": "python3"
  },
  "language_info": {
   "codemirror_mode": {
    "name": "ipython",
    "version": 3
   },
   "file_extension": ".py",
   "mimetype": "text/x-python",
   "name": "python",
   "nbconvert_exporter": "python",
   "pygments_lexer": "ipython3",
   "version": "3.7.4"
  }
 },
 "nbformat": 4,
 "nbformat_minor": 2
}
